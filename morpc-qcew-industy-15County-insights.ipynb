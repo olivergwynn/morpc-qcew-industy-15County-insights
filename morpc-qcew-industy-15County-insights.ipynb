{
 "cells": [
  {
   "cell_type": "markdown",
   "id": "a4d182bb-b577-49a1-b23d-a310653f4ada",
   "metadata": {},
   "source": [
    "# QCEW Employee by Industry 15 Country Region Insights"
   ]
  },
  {
   "cell_type": "markdown",
   "id": "65a41d48-5abd-47a4-a94e-672b33bf7867",
   "metadata": {},
   "source": [
    "## Setup"
   ]
  },
  {
   "cell_type": "markdown",
   "id": "9457abfc-e622-4255-b0c5-2e47368caddd",
   "metadata": {},
   "source": [
    "### Packages and AGO login"
   ]
  },
  {
   "cell_type": "code",
   "execution_count": 2,
   "id": "4ea96074-e2b3-4346-8418-f2cdb2eb261c",
   "metadata": {},
   "outputs": [
    {
     "name": "stderr",
     "output_type": "stream",
     "text": [
      "C:\\Users\\ogwynn\\AppData\\Local\\Packages\\PythonSoftwareFoundation.Python.3.12_qbz5n2kfra8p0\\LocalCache\\local-packages\\Python312\\site-packages\\dask\\dataframe\\__init__.py:49: FutureWarning: \n",
      "Dask dataframe query planning is disabled because dask-expr is not installed.\n",
      "\n",
      "You can install it with `pip install dask[dataframe]` or `conda install dask`.\n",
      "This will raise in a future version.\n",
      "\n",
      "  warnings.warn(msg, FutureWarning)\n"
     ]
    }
   ],
   "source": [
    "import pandas as pd\n",
    "import os\n",
    "import matplotlib.pyplot as plt\n",
    "import time\n",
    "from arcgis.features import FeatureLayerCollection\n",
    "from arcgis.gis import GIS\n",
    "from pathlib import Path\n",
    "from zipfile import ZipFile\n",
    "import pandas as pd\n",
    "\n",
    "# Connect to ArcGIS Online\n",
    "gis = GIS(\"https://www.arcgis.com\", \"ogwynn_morpc\", \"Cr33p3r11!!\")"
   ]
  },
  {
   "cell_type": "markdown",
   "id": "33381bbf-66de-4aa1-9c4a-583cd719373a",
   "metadata": {},
   "source": [
    "### Output/input pathing"
   ]
  },
  {
   "cell_type": "code",
   "execution_count": 3,
   "id": "f3548d5e-c7b1-4cb7-b774-975d6e7ef564",
   "metadata": {},
   "outputs": [],
   "source": [
    "# Load the uploaded file\n",
    "INPUT_DATA_PATH = 'inputData/morpc-qcew-2018-2022-annual-MORPC15_readable.csv'\n",
    "\n",
    "# Directory where images are saved\n",
    "output_dir = 'outputData/plots'\n",
    "os.makedirs(output_dir, exist_ok=True)"
   ]
  },
  {
   "cell_type": "markdown",
   "id": "45198a54-38c4-4665-8930-5f8f17253f0c",
   "metadata": {},
   "source": [
    "### Plot colors/paramters"
   ]
  },
  {
   "cell_type": "code",
   "execution_count": 20,
   "id": "35fe9380-6ad3-4f6d-a337-a6ed21630a27",
   "metadata": {},
   "outputs": [],
   "source": [
    "colors = [\n",
    "    '#365072',  # Original\n",
    "    '#34617A',  # Original\n",
    "    '#0075BF',  # Original\n",
    "    '#00B2BF',  # Original\n",
    "    '#2A7F67',  # Original\n",
    "    '#5AB65F',  # Original\n",
    "    '#28556A',  # Deepened blue-gray\n",
    "    '#39807D',  # Muted teal\n",
    "    '#009FCC',  # Brightened blue\n",
    "    '#33C1C1',  # Softened aqua\n",
    "    '#3C9563',  # Rich green-teal\n",
    "    '#66C47A'   # Vibrant green\n",
    "]\n",
    "\n",
    "# Dictionary to store COUNTY to itemID mapping to update insights catalog\n",
    "county_item_mapping = {}"
   ]
  },
  {
   "cell_type": "markdown",
   "id": "4cee0087-923a-484f-847b-dde4f9c4b547",
   "metadata": {},
   "source": [
    "## Pulling Existing Catalog from AGO"
   ]
  },
  {
   "cell_type": "code",
   "execution_count": 43,
   "id": "6a7b9f13-7d49-4edc-9a41-dea965f3d3f8",
   "metadata": {},
   "outputs": [
    {
     "name": "stdout",
     "output_type": "stream",
     "text": [
      "CSV file downloaded successfully: inputData\\insightsCatalog\\morpc_insights_catalog.xlsx\n"
     ]
    }
   ],
   "source": [
    "# Define the directory to save the data\n",
    "data_path = Path('inputData/insightsCatalog')\n",
    "data_path.mkdir(parents=True, exist_ok=True)\n",
    "\n",
    "# Access the CSV item by ID\n",
    "catalog_item_id = \"c396b9d0db724d1f870fa47f1d1dc1ce\"\n",
    "catalog_path = gis.content.get(csv_item_id)\n",
    "\n",
    "# Download the CSV file\n",
    "catalog_path = csv_item.download(save_path=data_path)\n",
    "\n",
    "print(f\"CSV file downloaded successfully: {catalog_path}\")"
   ]
  },
  {
   "cell_type": "markdown",
   "id": "a22a2214-7cf5-40b0-bafd-4365ed966709",
   "metadata": {},
   "source": [
    "## Creating plots for 15 counties and region summary"
   ]
  },
  {
   "cell_type": "code",
   "execution_count": 22,
   "id": "3b337261-c004-40fd-9bb8-ba7f7932ad5a",
   "metadata": {},
   "outputs": [
    {
     "data": {
      "text/plain": [
       "('outputData/plots', 'AGO_County_ItemID_Mapping.csv')"
      ]
     },
     "execution_count": 22,
     "metadata": {},
     "output_type": "execute_result"
    }
   ],
   "source": [
    "# Load the data from the CSV file\n",
    "data = pd.read_csv(INPUT_DATA_PATH)\n",
    "\n",
    "# Filter data to exclude 'Total, all industries'\n",
    "filtered_data = data[data['industry_code'] != 10]\n",
    "\n",
    "filtered_data = filtered_data[filtered_data['own_code'] == 10]\n",
    "\n",
    "filtered_data = filtered_data[filtered_data['agglvl_code'] == 73]\n",
    "\n",
    "filtered_data['county_name'] = filtered_data['county_name'].replace('15-county region', '15County')\n",
    "\n",
    "# Iterate over each county\n",
    "for county in filtered_data['county_name'].unique():\n",
    "    county_data = filtered_data[filtered_data['county_name'] == county]\n",
    "    \n",
    "    # Ensure 'YEAR', 'annual_avg_emplvl_prop', and 'industry_code_name' columns are present\n",
    "    county_data = county_data[['year', 'annual_avg_emplvl_prop', 'industry_code_name']]\n",
    "    \n",
    "    # Aggregate to handle duplicates by taking the mean\n",
    "    county_data = county_data.groupby(['year', 'industry_code_name'], as_index=False).agg({'annual_avg_emplvl_prop': 'mean'})\n",
    "    \n",
    "    # Pivot data to have 'industry_code_name' as columns for plotting\n",
    "    county_data_pivot = county_data.pivot(index='year', columns='industry_code_name', values='annual_avg_emplvl_prop')\n",
    "    \n",
    "    # Normalize data for 100% stacking\n",
    "    county_data_pivot_percentage = county_data_pivot.div(county_data_pivot.sum(axis=1), axis=0) * 100\n",
    "    \n",
    "    # Plot each county's data as a 100% stacked bar chart\n",
    "    ax = county_data_pivot_percentage.plot(\n",
    "        kind='bar',\n",
    "        stacked=True,\n",
    "        figsize=(16, 9),\n",
    "        color=colors[:len(county_data_pivot_percentage.columns)],  # Use improved color palette\n",
    "        title=f\"{county} Employment Levels Proportions (2018-2022)\"\n",
    "    )\n",
    "    \n",
    "    plt.ylabel(\"Percentage of Employment Proportion\")\n",
    "    plt.xticks(rotation=30, fontsize=12)\n",
    "    plt.xlabel(\"\")  # Drop x-axis label\n",
    "    plt.yticks(fontsize=18)\n",
    "    plt.legend(title='Industry', bbox_to_anchor=(1.05, 1), loc='upper left', fontsize=18)  # Set legend font size to 18px\n",
    "    plt.tight_layout()\n",
    "    \n",
    "    # Save the plot as a PNG file\n",
    "    plot_path = os.path.join(output_dir, f\"{county}_employment_levels_100pct_stacked_bar.png\")\n",
    "    plt.savefig(plot_path)\n",
    "    plt.close()\n",
    "    \n",
    "    # Placeholder ID for demonstration as upload to AGO isn't performed here\n",
    "    county_item_mapping[county] = f\"simulated_item_id_for_{county}\"\n",
    "\n",
    "# Convert the dictionary to a DataFrame and save\n",
    "mapping_df = pd.DataFrame(list(county_item_mapping.items()), columns=['COUNTY', 'itemID'])\n",
    "mapping_file_path_colored = 'AGO_County_ItemID_Mapping.csv'\n",
    "mapping_df['TilesetID'] = 7\n",
    "mapping_df.to_csv(mapping_file_path_colored, index=False)\n",
    "\n",
    "# Provide the path to the saved mappings and generated plots\n",
    "output_dir, mapping_file_path_colored"
   ]
  },
  {
   "cell_type": "markdown",
   "id": "ff814762-2a73-4d7f-970c-d6bc3834dbe0",
   "metadata": {
    "jp-MarkdownHeadingCollapsed": true
   },
   "source": [
    "## Upload images to AGO and replace existing "
   ]
  },
  {
   "cell_type": "code",
   "execution_count": 23,
   "id": "174a0911-bbdd-463f-9c6f-5822ef860d1d",
   "metadata": {},
   "outputs": [
    {
     "name": "stdout",
     "output_type": "stream",
     "text": [
      "Deleted existing item with title: 15-county region employment levels 100pct stacked bar\n"
     ]
    },
    {
     "name": "stderr",
     "output_type": "stream",
     "text": [
      "C:\\Users\\ogwynn\\AppData\\Local\\Packages\\PythonSoftwareFoundation.Python.3.12_qbz5n2kfra8p0\\LocalCache\\local-packages\\Python312\\site-packages\\IPython\\core\\interactiveshell.py:3577: DeprecatedWarning: add is deprecated as of 2.3.0 and has been removed in 3.0.0. Use `Folder.add()` instead.\n",
      "  exec(code_obj, self.user_global_ns, self.user_ns)\n",
      "C:\\Users\\ogwynn\\AppData\\Local\\Packages\\PythonSoftwareFoundation.Python.3.12_qbz5n2kfra8p0\\LocalCache\\local-packages\\Python312\\site-packages\\IPython\\core\\interactiveshell.py:3577: DeprecatedWarning: share is deprecated as of 2.3.0 and has been removed in 3.0.0. Use `Item.sharing` instead.\n",
      "  exec(code_obj, self.user_global_ns, self.user_ns)\n"
     ]
    },
    {
     "name": "stdout",
     "output_type": "stream",
     "text": [
      "Uploaded 15-county region_employment_levels_100pct_stacked_bar.png with item ID: 4e22d8d612fe47e9a7c4da548452afbb and set it to public\n"
     ]
    },
    {
     "name": "stderr",
     "output_type": "stream",
     "text": [
      "C:\\Users\\ogwynn\\AppData\\Local\\Packages\\PythonSoftwareFoundation.Python.3.12_qbz5n2kfra8p0\\LocalCache\\local-packages\\Python312\\site-packages\\IPython\\core\\interactiveshell.py:3577: DeprecatedWarning: add is deprecated as of 2.3.0 and has been removed in 3.0.0. Use `Folder.add()` instead.\n",
      "  exec(code_obj, self.user_global_ns, self.user_ns)\n",
      "C:\\Users\\ogwynn\\AppData\\Local\\Packages\\PythonSoftwareFoundation.Python.3.12_qbz5n2kfra8p0\\LocalCache\\local-packages\\Python312\\site-packages\\IPython\\core\\interactiveshell.py:3577: DeprecatedWarning: share is deprecated as of 2.3.0 and has been removed in 3.0.0. Use `Item.sharing` instead.\n",
      "  exec(code_obj, self.user_global_ns, self.user_ns)\n"
     ]
    },
    {
     "name": "stdout",
     "output_type": "stream",
     "text": [
      "Uploaded 15County_employment_levels_100pct_stacked_bar.png with item ID: 996fbfb997d748cebf48aec7e349bcac and set it to public\n",
      "Deleted existing item with title: Delaware employment levels 100pct stacked bar\n"
     ]
    },
    {
     "name": "stderr",
     "output_type": "stream",
     "text": [
      "C:\\Users\\ogwynn\\AppData\\Local\\Packages\\PythonSoftwareFoundation.Python.3.12_qbz5n2kfra8p0\\LocalCache\\local-packages\\Python312\\site-packages\\IPython\\core\\interactiveshell.py:3577: DeprecatedWarning: add is deprecated as of 2.3.0 and has been removed in 3.0.0. Use `Folder.add()` instead.\n",
      "  exec(code_obj, self.user_global_ns, self.user_ns)\n",
      "C:\\Users\\ogwynn\\AppData\\Local\\Packages\\PythonSoftwareFoundation.Python.3.12_qbz5n2kfra8p0\\LocalCache\\local-packages\\Python312\\site-packages\\IPython\\core\\interactiveshell.py:3577: DeprecatedWarning: share is deprecated as of 2.3.0 and has been removed in 3.0.0. Use `Item.sharing` instead.\n",
      "  exec(code_obj, self.user_global_ns, self.user_ns)\n"
     ]
    },
    {
     "name": "stdout",
     "output_type": "stream",
     "text": [
      "Uploaded Delaware_employment_levels_100pct_stacked_bar.png with item ID: d840aade6dbb4eaf9177db06cd297680 and set it to public\n",
      "Deleted existing item with title: Fairfield employment levels 100pct stacked bar\n"
     ]
    },
    {
     "name": "stderr",
     "output_type": "stream",
     "text": [
      "C:\\Users\\ogwynn\\AppData\\Local\\Packages\\PythonSoftwareFoundation.Python.3.12_qbz5n2kfra8p0\\LocalCache\\local-packages\\Python312\\site-packages\\IPython\\core\\interactiveshell.py:3577: DeprecatedWarning: add is deprecated as of 2.3.0 and has been removed in 3.0.0. Use `Folder.add()` instead.\n",
      "  exec(code_obj, self.user_global_ns, self.user_ns)\n",
      "C:\\Users\\ogwynn\\AppData\\Local\\Packages\\PythonSoftwareFoundation.Python.3.12_qbz5n2kfra8p0\\LocalCache\\local-packages\\Python312\\site-packages\\IPython\\core\\interactiveshell.py:3577: DeprecatedWarning: share is deprecated as of 2.3.0 and has been removed in 3.0.0. Use `Item.sharing` instead.\n",
      "  exec(code_obj, self.user_global_ns, self.user_ns)\n"
     ]
    },
    {
     "name": "stdout",
     "output_type": "stream",
     "text": [
      "Uploaded Fairfield_employment_levels_100pct_stacked_bar.png with item ID: 210010949a1f46028e68fcb3a7cd56f0 and set it to public\n",
      "Deleted existing item with title: Fayette employment levels 100pct stacked bar\n"
     ]
    },
    {
     "name": "stderr",
     "output_type": "stream",
     "text": [
      "C:\\Users\\ogwynn\\AppData\\Local\\Packages\\PythonSoftwareFoundation.Python.3.12_qbz5n2kfra8p0\\LocalCache\\local-packages\\Python312\\site-packages\\IPython\\core\\interactiveshell.py:3577: DeprecatedWarning: add is deprecated as of 2.3.0 and has been removed in 3.0.0. Use `Folder.add()` instead.\n",
      "  exec(code_obj, self.user_global_ns, self.user_ns)\n",
      "C:\\Users\\ogwynn\\AppData\\Local\\Packages\\PythonSoftwareFoundation.Python.3.12_qbz5n2kfra8p0\\LocalCache\\local-packages\\Python312\\site-packages\\IPython\\core\\interactiveshell.py:3577: DeprecatedWarning: share is deprecated as of 2.3.0 and has been removed in 3.0.0. Use `Item.sharing` instead.\n",
      "  exec(code_obj, self.user_global_ns, self.user_ns)\n"
     ]
    },
    {
     "name": "stdout",
     "output_type": "stream",
     "text": [
      "Uploaded Fayette_employment_levels_100pct_stacked_bar.png with item ID: 7cef7e6a10fd4e37b2bb93c1eeef7c69 and set it to public\n",
      "Deleted existing item with title: Franklin employment levels 100pct stacked bar\n"
     ]
    },
    {
     "name": "stderr",
     "output_type": "stream",
     "text": [
      "C:\\Users\\ogwynn\\AppData\\Local\\Packages\\PythonSoftwareFoundation.Python.3.12_qbz5n2kfra8p0\\LocalCache\\local-packages\\Python312\\site-packages\\IPython\\core\\interactiveshell.py:3577: DeprecatedWarning: add is deprecated as of 2.3.0 and has been removed in 3.0.0. Use `Folder.add()` instead.\n",
      "  exec(code_obj, self.user_global_ns, self.user_ns)\n",
      "C:\\Users\\ogwynn\\AppData\\Local\\Packages\\PythonSoftwareFoundation.Python.3.12_qbz5n2kfra8p0\\LocalCache\\local-packages\\Python312\\site-packages\\IPython\\core\\interactiveshell.py:3577: DeprecatedWarning: share is deprecated as of 2.3.0 and has been removed in 3.0.0. Use `Item.sharing` instead.\n",
      "  exec(code_obj, self.user_global_ns, self.user_ns)\n"
     ]
    },
    {
     "name": "stdout",
     "output_type": "stream",
     "text": [
      "Uploaded Franklin_employment_levels_100pct_stacked_bar.png with item ID: 7e226c5d4c2f4967bb8281fba62b7c68 and set it to public\n",
      "Deleted existing item with title: Hocking employment levels 100pct stacked bar\n"
     ]
    },
    {
     "name": "stderr",
     "output_type": "stream",
     "text": [
      "C:\\Users\\ogwynn\\AppData\\Local\\Packages\\PythonSoftwareFoundation.Python.3.12_qbz5n2kfra8p0\\LocalCache\\local-packages\\Python312\\site-packages\\IPython\\core\\interactiveshell.py:3577: DeprecatedWarning: add is deprecated as of 2.3.0 and has been removed in 3.0.0. Use `Folder.add()` instead.\n",
      "  exec(code_obj, self.user_global_ns, self.user_ns)\n",
      "C:\\Users\\ogwynn\\AppData\\Local\\Packages\\PythonSoftwareFoundation.Python.3.12_qbz5n2kfra8p0\\LocalCache\\local-packages\\Python312\\site-packages\\IPython\\core\\interactiveshell.py:3577: DeprecatedWarning: share is deprecated as of 2.3.0 and has been removed in 3.0.0. Use `Item.sharing` instead.\n",
      "  exec(code_obj, self.user_global_ns, self.user_ns)\n"
     ]
    },
    {
     "name": "stdout",
     "output_type": "stream",
     "text": [
      "Uploaded Hocking_employment_levels_100pct_stacked_bar.png with item ID: cd9cf21455f549038e3594955589100b and set it to public\n",
      "Deleted existing item with title: Knox employment levels 100pct stacked bar\n"
     ]
    },
    {
     "name": "stderr",
     "output_type": "stream",
     "text": [
      "C:\\Users\\ogwynn\\AppData\\Local\\Packages\\PythonSoftwareFoundation.Python.3.12_qbz5n2kfra8p0\\LocalCache\\local-packages\\Python312\\site-packages\\IPython\\core\\interactiveshell.py:3577: DeprecatedWarning: add is deprecated as of 2.3.0 and has been removed in 3.0.0. Use `Folder.add()` instead.\n",
      "  exec(code_obj, self.user_global_ns, self.user_ns)\n",
      "C:\\Users\\ogwynn\\AppData\\Local\\Packages\\PythonSoftwareFoundation.Python.3.12_qbz5n2kfra8p0\\LocalCache\\local-packages\\Python312\\site-packages\\IPython\\core\\interactiveshell.py:3577: DeprecatedWarning: share is deprecated as of 2.3.0 and has been removed in 3.0.0. Use `Item.sharing` instead.\n",
      "  exec(code_obj, self.user_global_ns, self.user_ns)\n"
     ]
    },
    {
     "name": "stdout",
     "output_type": "stream",
     "text": [
      "Uploaded Knox_employment_levels_100pct_stacked_bar.png with item ID: 870ce8f5798a49d29e574ce3c9c956c6 and set it to public\n",
      "Deleted existing item with title: Licking employment levels 100pct stacked bar\n"
     ]
    },
    {
     "name": "stderr",
     "output_type": "stream",
     "text": [
      "C:\\Users\\ogwynn\\AppData\\Local\\Packages\\PythonSoftwareFoundation.Python.3.12_qbz5n2kfra8p0\\LocalCache\\local-packages\\Python312\\site-packages\\IPython\\core\\interactiveshell.py:3577: DeprecatedWarning: add is deprecated as of 2.3.0 and has been removed in 3.0.0. Use `Folder.add()` instead.\n",
      "  exec(code_obj, self.user_global_ns, self.user_ns)\n",
      "C:\\Users\\ogwynn\\AppData\\Local\\Packages\\PythonSoftwareFoundation.Python.3.12_qbz5n2kfra8p0\\LocalCache\\local-packages\\Python312\\site-packages\\IPython\\core\\interactiveshell.py:3577: DeprecatedWarning: share is deprecated as of 2.3.0 and has been removed in 3.0.0. Use `Item.sharing` instead.\n",
      "  exec(code_obj, self.user_global_ns, self.user_ns)\n"
     ]
    },
    {
     "name": "stdout",
     "output_type": "stream",
     "text": [
      "Uploaded Licking_employment_levels_100pct_stacked_bar.png with item ID: f76a98d71c544629a9f314598584dace and set it to public\n",
      "Deleted existing item with title: Logan employment levels 100pct stacked bar\n"
     ]
    },
    {
     "name": "stderr",
     "output_type": "stream",
     "text": [
      "C:\\Users\\ogwynn\\AppData\\Local\\Packages\\PythonSoftwareFoundation.Python.3.12_qbz5n2kfra8p0\\LocalCache\\local-packages\\Python312\\site-packages\\IPython\\core\\interactiveshell.py:3577: DeprecatedWarning: add is deprecated as of 2.3.0 and has been removed in 3.0.0. Use `Folder.add()` instead.\n",
      "  exec(code_obj, self.user_global_ns, self.user_ns)\n",
      "C:\\Users\\ogwynn\\AppData\\Local\\Packages\\PythonSoftwareFoundation.Python.3.12_qbz5n2kfra8p0\\LocalCache\\local-packages\\Python312\\site-packages\\IPython\\core\\interactiveshell.py:3577: DeprecatedWarning: share is deprecated as of 2.3.0 and has been removed in 3.0.0. Use `Item.sharing` instead.\n",
      "  exec(code_obj, self.user_global_ns, self.user_ns)\n"
     ]
    },
    {
     "name": "stdout",
     "output_type": "stream",
     "text": [
      "Uploaded Logan_employment_levels_100pct_stacked_bar.png with item ID: e57749dc451641e5b6bd35c23f86c1ec and set it to public\n",
      "Deleted existing item with title: Madison employment levels 100pct stacked bar\n"
     ]
    },
    {
     "name": "stderr",
     "output_type": "stream",
     "text": [
      "C:\\Users\\ogwynn\\AppData\\Local\\Packages\\PythonSoftwareFoundation.Python.3.12_qbz5n2kfra8p0\\LocalCache\\local-packages\\Python312\\site-packages\\IPython\\core\\interactiveshell.py:3577: DeprecatedWarning: add is deprecated as of 2.3.0 and has been removed in 3.0.0. Use `Folder.add()` instead.\n",
      "  exec(code_obj, self.user_global_ns, self.user_ns)\n",
      "C:\\Users\\ogwynn\\AppData\\Local\\Packages\\PythonSoftwareFoundation.Python.3.12_qbz5n2kfra8p0\\LocalCache\\local-packages\\Python312\\site-packages\\IPython\\core\\interactiveshell.py:3577: DeprecatedWarning: share is deprecated as of 2.3.0 and has been removed in 3.0.0. Use `Item.sharing` instead.\n",
      "  exec(code_obj, self.user_global_ns, self.user_ns)\n"
     ]
    },
    {
     "name": "stdout",
     "output_type": "stream",
     "text": [
      "Uploaded Madison_employment_levels_100pct_stacked_bar.png with item ID: d86310711b0648cd860f1d1db3818345 and set it to public\n",
      "Deleted existing item with title: Marion employment levels 100pct stacked bar\n"
     ]
    },
    {
     "name": "stderr",
     "output_type": "stream",
     "text": [
      "C:\\Users\\ogwynn\\AppData\\Local\\Packages\\PythonSoftwareFoundation.Python.3.12_qbz5n2kfra8p0\\LocalCache\\local-packages\\Python312\\site-packages\\IPython\\core\\interactiveshell.py:3577: DeprecatedWarning: add is deprecated as of 2.3.0 and has been removed in 3.0.0. Use `Folder.add()` instead.\n",
      "  exec(code_obj, self.user_global_ns, self.user_ns)\n",
      "C:\\Users\\ogwynn\\AppData\\Local\\Packages\\PythonSoftwareFoundation.Python.3.12_qbz5n2kfra8p0\\LocalCache\\local-packages\\Python312\\site-packages\\IPython\\core\\interactiveshell.py:3577: DeprecatedWarning: share is deprecated as of 2.3.0 and has been removed in 3.0.0. Use `Item.sharing` instead.\n",
      "  exec(code_obj, self.user_global_ns, self.user_ns)\n"
     ]
    },
    {
     "name": "stdout",
     "output_type": "stream",
     "text": [
      "Uploaded Marion_employment_levels_100pct_stacked_bar.png with item ID: 78af06ac2f41406d8a9351a5c17a4fe8 and set it to public\n",
      "Deleted existing item with title: Morrow employment levels 100pct stacked bar\n"
     ]
    },
    {
     "name": "stderr",
     "output_type": "stream",
     "text": [
      "C:\\Users\\ogwynn\\AppData\\Local\\Packages\\PythonSoftwareFoundation.Python.3.12_qbz5n2kfra8p0\\LocalCache\\local-packages\\Python312\\site-packages\\IPython\\core\\interactiveshell.py:3577: DeprecatedWarning: add is deprecated as of 2.3.0 and has been removed in 3.0.0. Use `Folder.add()` instead.\n",
      "  exec(code_obj, self.user_global_ns, self.user_ns)\n",
      "C:\\Users\\ogwynn\\AppData\\Local\\Packages\\PythonSoftwareFoundation.Python.3.12_qbz5n2kfra8p0\\LocalCache\\local-packages\\Python312\\site-packages\\IPython\\core\\interactiveshell.py:3577: DeprecatedWarning: share is deprecated as of 2.3.0 and has been removed in 3.0.0. Use `Item.sharing` instead.\n",
      "  exec(code_obj, self.user_global_ns, self.user_ns)\n"
     ]
    },
    {
     "name": "stdout",
     "output_type": "stream",
     "text": [
      "Uploaded Morrow_employment_levels_100pct_stacked_bar.png with item ID: d00385adcbb341c9869d14ab6379d415 and set it to public\n",
      "Deleted existing item with title: Perry employment levels 100pct stacked bar\n"
     ]
    },
    {
     "name": "stderr",
     "output_type": "stream",
     "text": [
      "C:\\Users\\ogwynn\\AppData\\Local\\Packages\\PythonSoftwareFoundation.Python.3.12_qbz5n2kfra8p0\\LocalCache\\local-packages\\Python312\\site-packages\\IPython\\core\\interactiveshell.py:3577: DeprecatedWarning: add is deprecated as of 2.3.0 and has been removed in 3.0.0. Use `Folder.add()` instead.\n",
      "  exec(code_obj, self.user_global_ns, self.user_ns)\n",
      "C:\\Users\\ogwynn\\AppData\\Local\\Packages\\PythonSoftwareFoundation.Python.3.12_qbz5n2kfra8p0\\LocalCache\\local-packages\\Python312\\site-packages\\IPython\\core\\interactiveshell.py:3577: DeprecatedWarning: share is deprecated as of 2.3.0 and has been removed in 3.0.0. Use `Item.sharing` instead.\n",
      "  exec(code_obj, self.user_global_ns, self.user_ns)\n"
     ]
    },
    {
     "name": "stdout",
     "output_type": "stream",
     "text": [
      "Uploaded Perry_employment_levels_100pct_stacked_bar.png with item ID: b2e2787101a045e19cf8535c72457092 and set it to public\n",
      "Deleted existing item with title: Pickaway employment levels 100pct stacked bar\n"
     ]
    },
    {
     "name": "stderr",
     "output_type": "stream",
     "text": [
      "C:\\Users\\ogwynn\\AppData\\Local\\Packages\\PythonSoftwareFoundation.Python.3.12_qbz5n2kfra8p0\\LocalCache\\local-packages\\Python312\\site-packages\\IPython\\core\\interactiveshell.py:3577: DeprecatedWarning: add is deprecated as of 2.3.0 and has been removed in 3.0.0. Use `Folder.add()` instead.\n",
      "  exec(code_obj, self.user_global_ns, self.user_ns)\n",
      "C:\\Users\\ogwynn\\AppData\\Local\\Packages\\PythonSoftwareFoundation.Python.3.12_qbz5n2kfra8p0\\LocalCache\\local-packages\\Python312\\site-packages\\IPython\\core\\interactiveshell.py:3577: DeprecatedWarning: share is deprecated as of 2.3.0 and has been removed in 3.0.0. Use `Item.sharing` instead.\n",
      "  exec(code_obj, self.user_global_ns, self.user_ns)\n"
     ]
    },
    {
     "name": "stdout",
     "output_type": "stream",
     "text": [
      "Uploaded Pickaway_employment_levels_100pct_stacked_bar.png with item ID: 9db1ba2185ac4690b2775de5db24c791 and set it to public\n",
      "Deleted existing item with title: Ross employment levels 100pct stacked bar\n"
     ]
    },
    {
     "name": "stderr",
     "output_type": "stream",
     "text": [
      "C:\\Users\\ogwynn\\AppData\\Local\\Packages\\PythonSoftwareFoundation.Python.3.12_qbz5n2kfra8p0\\LocalCache\\local-packages\\Python312\\site-packages\\IPython\\core\\interactiveshell.py:3577: DeprecatedWarning: add is deprecated as of 2.3.0 and has been removed in 3.0.0. Use `Folder.add()` instead.\n",
      "  exec(code_obj, self.user_global_ns, self.user_ns)\n",
      "C:\\Users\\ogwynn\\AppData\\Local\\Packages\\PythonSoftwareFoundation.Python.3.12_qbz5n2kfra8p0\\LocalCache\\local-packages\\Python312\\site-packages\\IPython\\core\\interactiveshell.py:3577: DeprecatedWarning: share is deprecated as of 2.3.0 and has been removed in 3.0.0. Use `Item.sharing` instead.\n",
      "  exec(code_obj, self.user_global_ns, self.user_ns)\n"
     ]
    },
    {
     "name": "stdout",
     "output_type": "stream",
     "text": [
      "Uploaded Ross_employment_levels_100pct_stacked_bar.png with item ID: c50a3807c0734d7180202ab81de2eabc and set it to public\n",
      "Deleted existing item with title: Union employment levels 100pct stacked bar\n"
     ]
    },
    {
     "name": "stderr",
     "output_type": "stream",
     "text": [
      "C:\\Users\\ogwynn\\AppData\\Local\\Packages\\PythonSoftwareFoundation.Python.3.12_qbz5n2kfra8p0\\LocalCache\\local-packages\\Python312\\site-packages\\IPython\\core\\interactiveshell.py:3577: DeprecatedWarning: add is deprecated as of 2.3.0 and has been removed in 3.0.0. Use `Folder.add()` instead.\n",
      "  exec(code_obj, self.user_global_ns, self.user_ns)\n",
      "C:\\Users\\ogwynn\\AppData\\Local\\Packages\\PythonSoftwareFoundation.Python.3.12_qbz5n2kfra8p0\\LocalCache\\local-packages\\Python312\\site-packages\\IPython\\core\\interactiveshell.py:3577: DeprecatedWarning: share is deprecated as of 2.3.0 and has been removed in 3.0.0. Use `Item.sharing` instead.\n",
      "  exec(code_obj, self.user_global_ns, self.user_ns)\n"
     ]
    },
    {
     "name": "stdout",
     "output_type": "stream",
     "text": [
      "Uploaded Union_employment_levels_100pct_stacked_bar.png with item ID: 41045993352f486caa7171d263f11e1d and set it to public\n"
     ]
    }
   ],
   "source": [
    "# Initialize dictionary to store county-item mappings\n",
    "county_item_mapping = {}\n",
    "\n",
    "# Loop through each file in the directory and upload it\n",
    "for filename in os.listdir(output_dir):\n",
    "    if filename.endswith(\".png\"):\n",
    "        file_path = os.path.join(output_dir, filename)\n",
    "        \n",
    "        # Define item properties\n",
    "        title = filename.replace(\"_\", \" \").replace(\".png\", \"\")\n",
    "        county_name = filename.split('_')[0]  # Extract county name from the filename\n",
    "        item_properties = {\n",
    "            \"title\": title,\n",
    "            \"tags\": \"county, population, race, demographics\",\n",
    "            \"description\": f\"Population proportion over time by race for {county_name} county.\",\n",
    "            \"type\": \"Image\"\n",
    "        }\n",
    "        \n",
    "        # Search for an existing item with the same title\n",
    "        existing_items = gis.content.search(query=title, item_type=\"Image\", max_items=1)\n",
    "        if existing_items:\n",
    "            # If an existing item is found, delete it\n",
    "            existing_item = existing_items[0]\n",
    "            existing_item.delete()\n",
    "            print(f\"Deleted existing item with title: {title}\")\n",
    "            time.sleep(2)  # Wait for 2 seconds before uploading the new item\n",
    "\n",
    "\n",
    "        try:\n",
    "            # Upload the new image\n",
    "            image_item = gis.content.add(item_properties, data=file_path)\n",
    "            \n",
    "            # Make the item public\n",
    "            image_item.share(everyone=True)\n",
    "\n",
    "            # Store item ID in the dictionary\n",
    "            county_item_mapping[county_name] = f\"https://morpc.maps.arcgis.com/sharing/rest/content/items/{image_item.id}/data\"\n",
    "            \n",
    "            # Print confirmation\n",
    "            print(f\"Uploaded {filename} with item ID: {image_item.id} and set it to public\")\n",
    "        \n",
    "        except Exception as e:\n",
    "            print(f\"Error uploading {filename}: {e}\")\n",
    "\n",
    "# Convert the dictionary to a DataFrame and save\n",
    "mapping_df = pd.DataFrame(list(county_item_mapping.items()), columns=['COUNTY', 'itemID'])\n",
    "mapping_file_path = 'AGO_County_ItemID_Mapping.csv'\n",
    "mapping_df['TilesetID'] = 7\n",
    "mapping_df.to_csv(mapping_file_path, index=False)\n",
    "\n"
   ]
  },
  {
   "cell_type": "markdown",
   "id": "50260957-9b58-4b4e-b579-7bab85f20d1e",
   "metadata": {},
   "source": [
    "## Updating Insights Catalog in AGO"
   ]
  },
  {
   "cell_type": "markdown",
   "id": "ca4d4b35-e5ce-458a-896d-e48aa32babf3",
   "metadata": {},
   "source": [
    "### Local updates to thumbnail"
   ]
  },
  {
   "cell_type": "code",
   "execution_count": 46,
   "id": "0c431d49-ada8-442d-8f3d-6a1ad940e90c",
   "metadata": {},
   "outputs": [
    {
     "name": "stdout",
     "output_type": "stream",
     "text": [
      "Updated catalog saved at: outputData/morpc_insights_catalog_updated.xlsx\n"
     ]
    }
   ],
   "source": [
    "import pandas as pd\n",
    "\n",
    "# Load the catalog data\n",
    "catalog_df = pd.read_excel(catalog_path)\n",
    "\n",
    "# Load the mapping data\n",
    "mapping_df = pd.read_csv(mapping_file_path_colored)\n",
    "\n",
    "# Merge the datasets based on the key pairs ('COUNTY', 'TilesetID') in mapping_df \n",
    "# and ('GeographyName', 'TilesetID') in catalog_df\n",
    "merged_df = catalog_df.merge(\n",
    "    mapping_df,\n",
    "    left_on=['GeographyName', 'TilesetID'],\n",
    "    right_on=['COUNTY', 'TilesetID'],\n",
    "    how='left'\n",
    ")\n",
    "\n",
    "# Update 'ThumbnailURL' with 'itemID' where there is a match\n",
    "merged_df['ThumbnailURL'] = merged_df['itemID'].combine_first(merged_df['ThumbnailURL'])\n",
    "\n",
    "# Drop unnecessary columns from the merged dataset\n",
    "merged_df = merged_df.drop(columns=['COUNTY', 'itemID'])\n",
    "\n",
    "# Save the updated catalog back to an Excel file\n",
    "updated_catalog_path = \"outputData/morpc_insights_catalog_updated.xlsx\"\n",
    "merged_df.to_excel(updated_catalog_path, index=False)\n",
    "\n",
    "# Provide the file to the user\n",
    "print(f\"Updated catalog saved at: {updated_catalog_path}\")\n"
   ]
  },
  {
   "cell_type": "markdown",
   "id": "aefbcd59-9b11-4d0a-8641-7a0227522567",
   "metadata": {},
   "source": [
    "### Pushing excel  changes to AGO"
   ]
  },
  {
   "cell_type": "code",
   "execution_count": 49,
   "id": "616982a2-cd65-479b-a7c7-92e174c27640",
   "metadata": {},
   "outputs": [
    {
     "name": "stdout",
     "output_type": "stream",
     "text": [
      "Found item: morpc_insights_catalog\n",
      "Successfully updated the Excel file in AGO.\n"
     ]
    }
   ],
   "source": [
    "# Define the item ID of the Excel file in AGO\n",
    "ITEM_ID = \"c396b9d0db724d1f870fa47f1d1dc1ce\"\n",
    "\n",
    "# Path to the updated Excel file\n",
    "updated_catalog_path = \"inputData/morpc_insights_catalog_updated.xlsx\"\n",
    "\n",
    "# Get the existing item\n",
    "item = gis.content.get(ITEM_ID)\n",
    "\n",
    "if item:\n",
    "    print(f\"Found item: {item.title}\")\n",
    "\n",
    "    # Update the item with the new file\n",
    "    item.update(\n",
    "        item_properties={\"title\": item.title},  # Keeps the existing metadata\n",
    "        data=updated_catalog_path  # Replaces the file\n",
    "    )\n",
    "    \n",
    "    print(\"Successfully updated the Excel file in AGO.\")\n",
    "else:\n",
    "    print(\"Item not found. Check the item ID and your permissions.\")\n"
   ]
  },
  {
   "cell_type": "markdown",
   "id": "56e2e93b-f4c6-40df-b8ca-342c2a9a6ce8",
   "metadata": {},
   "source": [
    "### Updating Feature Layer"
   ]
  }
 ],
 "metadata": {
  "kernelspec": {
   "display_name": "Python 3 (ipykernel)",
   "language": "python",
   "name": "python3"
  },
  "language_info": {
   "codemirror_mode": {
    "name": "ipython",
    "version": 3
   },
   "file_extension": ".py",
   "mimetype": "text/x-python",
   "name": "python",
   "nbconvert_exporter": "python",
   "pygments_lexer": "ipython3",
   "version": "3.12.8"
  }
 },
 "nbformat": 4,
 "nbformat_minor": 5
}
